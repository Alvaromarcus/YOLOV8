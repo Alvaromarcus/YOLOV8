{
 "cells": [
  {
   "cell_type": "code",
   "execution_count": 5,
   "id": "b2cdfbb9",
   "metadata": {},
   "outputs": [],
   "source": [
    "import json\n",
    "import os\n",
    "\n",
    "def polygon_to_yolo(coordinates, img_width, img_height):\n",
    "    x_min = min(coordinates['all_points_x'])\n",
    "    x_max = max(coordinates['all_points_x'])\n",
    "    y_min = min(coordinates['all_points_y'])\n",
    "    y_max = max(coordinates['all_points_y'])\n",
    "\n",
    "    x_center = (x_min + x_max) / 2\n",
    "    y_center = (y_min + y_max) / 2\n",
    "    width = x_max - x_min\n",
    "    height = y_max - y_min\n",
    "\n",
    "    x_center /= img_width\n",
    "    y_center /= img_height\n",
    "    width /= img_width\n",
    "    height /= img_height\n",
    "\n",
    "    return f\"0 {x_center} {y_center} {width} {height}\"\n",
    "\n",
    "# Caminho para o seu arquivo JSON\n",
    "json_file_path = 'placas/train/placas_treino.json'\n",
    "\n",
    "# Obtém o diretório onde o arquivo JSON está localizado\n",
    "json_directory = os.path.dirname(json_file_path)\n",
    "\n",
    "# Dimensões da imagem (fornecidas por você)\n",
    "img_width = 640\n",
    "img_height = 480\n",
    "\n",
    "# Lê o arquivo JSON\n",
    "with open(json_file_path) as json_file:\n",
    "    data = json.load(json_file)\n",
    "    annotations = data['_via_img_metadata']\n",
    "\n",
    "    # Processa cada imagem\n",
    "    for img_data in annotations.values():\n",
    "        filename = img_data['filename']\n",
    "        regions = img_data['regions']\n",
    "\n",
    "        # Cria um arquivo .txt no mesmo diretório do arquivo JSON\n",
    "        txt_file_path = os.path.join(json_directory, f\"{filename[:-4]}.txt\")\n",
    "        with open(txt_file_path, 'w') as txt_file:\n",
    "            for region in regions:\n",
    "                bbox = polygon_to_yolo(region['shape_attributes'], img_width, img_height)\n",
    "                txt_file.write(bbox + '\\n')\n"
   ]
  },
  {
   "cell_type": "code",
   "execution_count": null,
   "id": "6c0f1f9d",
   "metadata": {},
   "outputs": [],
   "source": []
  }
 ],
 "metadata": {
  "kernelspec": {
   "display_name": "Python 3 (ipykernel)",
   "language": "python",
   "name": "python3"
  },
  "language_info": {
   "codemirror_mode": {
    "name": "ipython",
    "version": 3
   },
   "file_extension": ".py",
   "mimetype": "text/x-python",
   "name": "python",
   "nbconvert_exporter": "python",
   "pygments_lexer": "ipython3",
   "version": "3.7.1"
  }
 },
 "nbformat": 4,
 "nbformat_minor": 5
}
