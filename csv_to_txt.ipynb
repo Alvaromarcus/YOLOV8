{
 "cells": [
  {
   "cell_type": "code",
   "execution_count": 1,
   "id": "51e14b37",
   "metadata": {},
   "outputs": [],
   "source": [
    "import csv\n",
    "import json\n",
    "import os\n",
    "\n",
    "def polygon_to_yolo(coordinates, img_width, img_height):\n",
    "    x_min = min(coordinates['all_points_x'])\n",
    "    x_max = max(coordinates['all_points_x'])\n",
    "    y_min = min(coordinates['all_points_y'])\n",
    "    y_max = max(coordinates['all_points_y'])\n",
    "\n",
    "    x_center = (x_min + x_max) / 2\n",
    "    y_center = (y_min + y_max) / 2\n",
    "    width = x_max - x_min\n",
    "    height = y_max - y_min\n",
    "\n",
    "    x_center /= img_width\n",
    "    y_center /= img_height\n",
    "    width /= img_width\n",
    "    height /= img_height\n",
    "\n",
    "    return f\"0 {x_center} {y_center} {width} {height}\"\n",
    "\n",
    "# Caminho para o seu arquivo CSV\n",
    "csv_file_path = 'placas/val/placas_validacao_csv.csv'\n",
    "\n",
    "# Obtém o diretório onde o arquivo CSV está localizado\n",
    "csv_directory = os.path.dirname(csv_file_path)\n",
    "\n",
    "# Dimensões da imagem (fornecidas por você)\n",
    "img_width = 640\n",
    "img_height = 480\n",
    "\n",
    "# Lê o arquivo CSV\n",
    "with open(csv_file_path, newline='') as csv_file:\n",
    "    reader = csv.DictReader(csv_file)\n",
    "    for row in reader:\n",
    "        filename = row['filename']\n",
    "        region_shape_attributes = json.loads(row['region_shape_attributes'])\n",
    "        \n",
    "        # Converte as coordenadas do polígono para o formato YOLOv8\n",
    "        bbox = polygon_to_yolo(region_shape_attributes, img_width, img_height)\n",
    "        \n",
    "        # Cria ou adiciona a um arquivo .txt no mesmo diretório do arquivo CSV\n",
    "        txt_file_path = os.path.join(csv_directory, f\"{filename[:-4]}.txt\")\n",
    "        with open(txt_file_path, 'a') as txt_file:\n",
    "            txt_file.write(bbox + '\\n')\n",
    "\n"
   ]
  },
  {
   "cell_type": "code",
   "execution_count": null,
   "id": "538023f9",
   "metadata": {},
   "outputs": [],
   "source": []
  }
 ],
 "metadata": {
  "kernelspec": {
   "display_name": "Python 3 (ipykernel)",
   "language": "python",
   "name": "python3"
  },
  "language_info": {
   "codemirror_mode": {
    "name": "ipython",
    "version": 3
   },
   "file_extension": ".py",
   "mimetype": "text/x-python",
   "name": "python",
   "nbconvert_exporter": "python",
   "pygments_lexer": "ipython3",
   "version": "3.7.1"
  }
 },
 "nbformat": 4,
 "nbformat_minor": 5
}
